{
 "cells": [
  {
   "cell_type": "code",
   "execution_count": 2,
   "metadata": {},
   "outputs": [
    {
     "name": "stdout",
     "output_type": "stream",
     "text": [
      "78.5\n",
      "31.400000000000002\n"
     ]
    }
   ],
   "source": [
    "class circle : \n",
    "    def __init__(self, radius) :\n",
    "        self.radius = radius\n",
    "    def area(self) :\n",
    "        return 3.14 * self.radius * self.radius\n",
    "    def circumference(self) :\n",
    "        return 2 * 3.14 * self.radius\n",
    "    \n",
    "radius = int(input(\"Enter the radius of the circle : \"))\n",
    "c = circle(radius)\n",
    "print(c.area())\n",
    "print(c.circumference())\n"
   ]
  },
  {
   "cell_type": "code",
   "execution_count": null,
   "metadata": {},
   "outputs": [],
   "source": []
  }
 ],
 "metadata": {
  "kernelspec": {
   "display_name": "Python 3",
   "language": "python",
   "name": "python3"
  },
  "language_info": {
   "codemirror_mode": {
    "name": "ipython",
    "version": 3
   },
   "file_extension": ".py",
   "mimetype": "text/x-python",
   "name": "python",
   "nbconvert_exporter": "python",
   "pygments_lexer": "ipython3",
   "version": "3.11.7"
  }
 },
 "nbformat": 4,
 "nbformat_minor": 2
}
